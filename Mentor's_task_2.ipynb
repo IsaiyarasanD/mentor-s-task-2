{
  "nbformat": 4,
  "nbformat_minor": 0,
  "metadata": {
    "colab": {
      "provenance": [],
      "collapsed_sections": [],
      "authorship_tag": "ABX9TyO0qosk/FddH6Niz+L+wEsg",
      "include_colab_link": true
    },
    "kernelspec": {
      "name": "python3",
      "display_name": "Python 3"
    },
    "language_info": {
      "name": "python"
    }
  },
  "cells": [
    {
      "cell_type": "markdown",
      "metadata": {
        "id": "view-in-github",
        "colab_type": "text"
      },
      "source": [
        "<a href=\"https://colab.research.google.com/github/IsaiyarasanD/mentor-s-task-2/blob/main/Mentor's_task_2.ipynb\" target=\"_parent\"><img src=\"https://colab.research.google.com/assets/colab-badge.svg\" alt=\"Open In Colab\"/></a>"
      ]
    },
    {
      "cell_type": "code",
      "execution_count": null,
      "metadata": {
        "colab": {
          "base_uri": "https://localhost:8080/"
        },
        "id": "TqZN_uINXyci",
        "outputId": "efb289bf-2ed7-4cad-aa39-f19daaa623cd"
      },
      "outputs": [
        {
          "output_type": "stream",
          "name": "stdout",
          "text": [
            "2883\n"
          ]
        }
      ],
      "source": [
        "import itertools as it\n",
        "x=(0,1,2,3,4,5,6,7,8,9)\n",
        "pwd=(5,7,3,8)\n",
        "count=[]\n",
        "c=it.permutations(x,4)\n",
        "for i in c:\n",
        "  count.append(i)\n",
        "  if i == pwd:\n",
        "    break\n",
        "  else:\n",
        "    continue\n",
        "print(len(count))\n"
      ]
    }
  ]
}